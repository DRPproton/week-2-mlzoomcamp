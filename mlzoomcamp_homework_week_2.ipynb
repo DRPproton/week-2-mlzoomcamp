{
 "cells": [
  {
   "cell_type": "markdown",
   "id": "1b42839e-9030-49e7-9e0f-e5379ee39581",
   "metadata": {},
   "source": [
    "### Importing Libraries"
   ]
  },
  {
   "cell_type": "code",
   "execution_count": 1,
   "id": "cb2a01e0-00b5-406c-9dc5-69a3367b921f",
   "metadata": {},
   "outputs": [],
   "source": [
    "import pandas as pd\n",
    "import numpy as np\n",
    "import matplotlib.pyplot as plt\n",
    "import seaborn as sns"
   ]
  },
  {
   "cell_type": "code",
   "execution_count": 2,
   "id": "6cd349d3-7ce0-44d2-835c-003d3c1e696b",
   "metadata": {},
   "outputs": [],
   "source": [
    "url = 'https://raw.githubusercontent.com/alexeygrigorev/datasets/master/housing.csv'"
   ]
  },
  {
   "cell_type": "markdown",
   "id": "de4c34c8-623c-45b4-922a-fd69b40965ab",
   "metadata": {},
   "source": [
    "### Reading the dataset"
   ]
  },
  {
   "cell_type": "code",
   "execution_count": 3,
   "id": "50757eb8-18bc-4986-b0f4-5db273fe2966",
   "metadata": {},
   "outputs": [],
   "source": [
    "df = pd.read_csv(url)"
   ]
  },
  {
   "cell_type": "code",
   "execution_count": 4,
   "id": "989b594a-967d-47ae-a5c4-804f953096a1",
   "metadata": {},
   "outputs": [
    {
     "data": {
      "text/html": [
       "<div>\n",
       "<style scoped>\n",
       "    .dataframe tbody tr th:only-of-type {\n",
       "        vertical-align: middle;\n",
       "    }\n",
       "\n",
       "    .dataframe tbody tr th {\n",
       "        vertical-align: top;\n",
       "    }\n",
       "\n",
       "    .dataframe thead th {\n",
       "        text-align: right;\n",
       "    }\n",
       "</style>\n",
       "<table border=\"1\" class=\"dataframe\">\n",
       "  <thead>\n",
       "    <tr style=\"text-align: right;\">\n",
       "      <th></th>\n",
       "      <th>longitude</th>\n",
       "      <th>latitude</th>\n",
       "      <th>housing_median_age</th>\n",
       "      <th>total_rooms</th>\n",
       "      <th>total_bedrooms</th>\n",
       "      <th>population</th>\n",
       "      <th>households</th>\n",
       "      <th>median_income</th>\n",
       "      <th>median_house_value</th>\n",
       "      <th>ocean_proximity</th>\n",
       "    </tr>\n",
       "  </thead>\n",
       "  <tbody>\n",
       "    <tr>\n",
       "      <th>0</th>\n",
       "      <td>-122.23</td>\n",
       "      <td>37.88</td>\n",
       "      <td>41.0</td>\n",
       "      <td>880.0</td>\n",
       "      <td>129.0</td>\n",
       "      <td>322.0</td>\n",
       "      <td>126.0</td>\n",
       "      <td>8.3252</td>\n",
       "      <td>452600.0</td>\n",
       "      <td>NEAR BAY</td>\n",
       "    </tr>\n",
       "    <tr>\n",
       "      <th>1</th>\n",
       "      <td>-122.22</td>\n",
       "      <td>37.86</td>\n",
       "      <td>21.0</td>\n",
       "      <td>7099.0</td>\n",
       "      <td>1106.0</td>\n",
       "      <td>2401.0</td>\n",
       "      <td>1138.0</td>\n",
       "      <td>8.3014</td>\n",
       "      <td>358500.0</td>\n",
       "      <td>NEAR BAY</td>\n",
       "    </tr>\n",
       "    <tr>\n",
       "      <th>2</th>\n",
       "      <td>-122.24</td>\n",
       "      <td>37.85</td>\n",
       "      <td>52.0</td>\n",
       "      <td>1467.0</td>\n",
       "      <td>190.0</td>\n",
       "      <td>496.0</td>\n",
       "      <td>177.0</td>\n",
       "      <td>7.2574</td>\n",
       "      <td>352100.0</td>\n",
       "      <td>NEAR BAY</td>\n",
       "    </tr>\n",
       "    <tr>\n",
       "      <th>3</th>\n",
       "      <td>-122.25</td>\n",
       "      <td>37.85</td>\n",
       "      <td>52.0</td>\n",
       "      <td>1274.0</td>\n",
       "      <td>235.0</td>\n",
       "      <td>558.0</td>\n",
       "      <td>219.0</td>\n",
       "      <td>5.6431</td>\n",
       "      <td>341300.0</td>\n",
       "      <td>NEAR BAY</td>\n",
       "    </tr>\n",
       "    <tr>\n",
       "      <th>4</th>\n",
       "      <td>-122.25</td>\n",
       "      <td>37.85</td>\n",
       "      <td>52.0</td>\n",
       "      <td>1627.0</td>\n",
       "      <td>280.0</td>\n",
       "      <td>565.0</td>\n",
       "      <td>259.0</td>\n",
       "      <td>3.8462</td>\n",
       "      <td>342200.0</td>\n",
       "      <td>NEAR BAY</td>\n",
       "    </tr>\n",
       "  </tbody>\n",
       "</table>\n",
       "</div>"
      ],
      "text/plain": [
       "   longitude  latitude  housing_median_age  total_rooms  total_bedrooms  \\\n",
       "0    -122.23     37.88                41.0        880.0           129.0   \n",
       "1    -122.22     37.86                21.0       7099.0          1106.0   \n",
       "2    -122.24     37.85                52.0       1467.0           190.0   \n",
       "3    -122.25     37.85                52.0       1274.0           235.0   \n",
       "4    -122.25     37.85                52.0       1627.0           280.0   \n",
       "\n",
       "   population  households  median_income  median_house_value ocean_proximity  \n",
       "0       322.0       126.0         8.3252            452600.0        NEAR BAY  \n",
       "1      2401.0      1138.0         8.3014            358500.0        NEAR BAY  \n",
       "2       496.0       177.0         7.2574            352100.0        NEAR BAY  \n",
       "3       558.0       219.0         5.6431            341300.0        NEAR BAY  \n",
       "4       565.0       259.0         3.8462            342200.0        NEAR BAY  "
      ]
     },
     "execution_count": 4,
     "metadata": {},
     "output_type": "execute_result"
    }
   ],
   "source": [
    "df.head()"
   ]
  },
  {
   "cell_type": "markdown",
   "id": "b1ee687e-fbcf-4a7e-aa3e-e19717822a60",
   "metadata": {},
   "source": [
    "### Data Exploration"
   ]
  },
  {
   "cell_type": "code",
   "execution_count": 5,
   "id": "4e1036d6-4bc2-4a9d-8601-ed39d2d0dbee",
   "metadata": {},
   "outputs": [
    {
     "data": {
      "text/plain": [
       "(20640, 10)"
      ]
     },
     "execution_count": 5,
     "metadata": {},
     "output_type": "execute_result"
    }
   ],
   "source": [
    "df.shape"
   ]
  },
  {
   "cell_type": "code",
   "execution_count": 6,
   "id": "a0913a00-f5bf-481c-9e98-29cb1c4d2687",
   "metadata": {},
   "outputs": [
    {
     "name": "stdout",
     "output_type": "stream",
     "text": [
      "<class 'pandas.core.frame.DataFrame'>\n",
      "RangeIndex: 20640 entries, 0 to 20639\n",
      "Data columns (total 10 columns):\n",
      " #   Column              Non-Null Count  Dtype  \n",
      "---  ------              --------------  -----  \n",
      " 0   longitude           20640 non-null  float64\n",
      " 1   latitude            20640 non-null  float64\n",
      " 2   housing_median_age  20640 non-null  float64\n",
      " 3   total_rooms         20640 non-null  float64\n",
      " 4   total_bedrooms      20433 non-null  float64\n",
      " 5   population          20640 non-null  float64\n",
      " 6   households          20640 non-null  float64\n",
      " 7   median_income       20640 non-null  float64\n",
      " 8   median_house_value  20640 non-null  float64\n",
      " 9   ocean_proximity     20640 non-null  object \n",
      "dtypes: float64(9), object(1)\n",
      "memory usage: 1.6+ MB\n"
     ]
    }
   ],
   "source": [
    "df.info()"
   ]
  },
  {
   "cell_type": "code",
   "execution_count": 7,
   "id": "efa7b841-e606-40f9-9f20-b4b8fb8cc27d",
   "metadata": {},
   "outputs": [
    {
     "data": {
      "text/html": [
       "<div>\n",
       "<style scoped>\n",
       "    .dataframe tbody tr th:only-of-type {\n",
       "        vertical-align: middle;\n",
       "    }\n",
       "\n",
       "    .dataframe tbody tr th {\n",
       "        vertical-align: top;\n",
       "    }\n",
       "\n",
       "    .dataframe thead th {\n",
       "        text-align: right;\n",
       "    }\n",
       "</style>\n",
       "<table border=\"1\" class=\"dataframe\">\n",
       "  <thead>\n",
       "    <tr style=\"text-align: right;\">\n",
       "      <th></th>\n",
       "      <th>count</th>\n",
       "      <th>unique</th>\n",
       "      <th>top</th>\n",
       "      <th>freq</th>\n",
       "      <th>mean</th>\n",
       "      <th>std</th>\n",
       "      <th>min</th>\n",
       "      <th>25%</th>\n",
       "      <th>50%</th>\n",
       "      <th>75%</th>\n",
       "      <th>max</th>\n",
       "    </tr>\n",
       "  </thead>\n",
       "  <tbody>\n",
       "    <tr>\n",
       "      <th>longitude</th>\n",
       "      <td>20640.0</td>\n",
       "      <td>NaN</td>\n",
       "      <td>NaN</td>\n",
       "      <td>NaN</td>\n",
       "      <td>-119.569704</td>\n",
       "      <td>2.003532</td>\n",
       "      <td>-124.35</td>\n",
       "      <td>-121.8</td>\n",
       "      <td>-118.49</td>\n",
       "      <td>-118.01</td>\n",
       "      <td>-114.31</td>\n",
       "    </tr>\n",
       "    <tr>\n",
       "      <th>latitude</th>\n",
       "      <td>20640.0</td>\n",
       "      <td>NaN</td>\n",
       "      <td>NaN</td>\n",
       "      <td>NaN</td>\n",
       "      <td>35.631861</td>\n",
       "      <td>2.135952</td>\n",
       "      <td>32.54</td>\n",
       "      <td>33.93</td>\n",
       "      <td>34.26</td>\n",
       "      <td>37.71</td>\n",
       "      <td>41.95</td>\n",
       "    </tr>\n",
       "    <tr>\n",
       "      <th>housing_median_age</th>\n",
       "      <td>20640.0</td>\n",
       "      <td>NaN</td>\n",
       "      <td>NaN</td>\n",
       "      <td>NaN</td>\n",
       "      <td>28.639486</td>\n",
       "      <td>12.585558</td>\n",
       "      <td>1.0</td>\n",
       "      <td>18.0</td>\n",
       "      <td>29.0</td>\n",
       "      <td>37.0</td>\n",
       "      <td>52.0</td>\n",
       "    </tr>\n",
       "    <tr>\n",
       "      <th>total_rooms</th>\n",
       "      <td>20640.0</td>\n",
       "      <td>NaN</td>\n",
       "      <td>NaN</td>\n",
       "      <td>NaN</td>\n",
       "      <td>2635.763081</td>\n",
       "      <td>2181.615252</td>\n",
       "      <td>2.0</td>\n",
       "      <td>1447.75</td>\n",
       "      <td>2127.0</td>\n",
       "      <td>3148.0</td>\n",
       "      <td>39320.0</td>\n",
       "    </tr>\n",
       "    <tr>\n",
       "      <th>total_bedrooms</th>\n",
       "      <td>20433.0</td>\n",
       "      <td>NaN</td>\n",
       "      <td>NaN</td>\n",
       "      <td>NaN</td>\n",
       "      <td>537.870553</td>\n",
       "      <td>421.38507</td>\n",
       "      <td>1.0</td>\n",
       "      <td>296.0</td>\n",
       "      <td>435.0</td>\n",
       "      <td>647.0</td>\n",
       "      <td>6445.0</td>\n",
       "    </tr>\n",
       "    <tr>\n",
       "      <th>population</th>\n",
       "      <td>20640.0</td>\n",
       "      <td>NaN</td>\n",
       "      <td>NaN</td>\n",
       "      <td>NaN</td>\n",
       "      <td>1425.476744</td>\n",
       "      <td>1132.462122</td>\n",
       "      <td>3.0</td>\n",
       "      <td>787.0</td>\n",
       "      <td>1166.0</td>\n",
       "      <td>1725.0</td>\n",
       "      <td>35682.0</td>\n",
       "    </tr>\n",
       "    <tr>\n",
       "      <th>households</th>\n",
       "      <td>20640.0</td>\n",
       "      <td>NaN</td>\n",
       "      <td>NaN</td>\n",
       "      <td>NaN</td>\n",
       "      <td>499.53968</td>\n",
       "      <td>382.329753</td>\n",
       "      <td>1.0</td>\n",
       "      <td>280.0</td>\n",
       "      <td>409.0</td>\n",
       "      <td>605.0</td>\n",
       "      <td>6082.0</td>\n",
       "    </tr>\n",
       "    <tr>\n",
       "      <th>median_income</th>\n",
       "      <td>20640.0</td>\n",
       "      <td>NaN</td>\n",
       "      <td>NaN</td>\n",
       "      <td>NaN</td>\n",
       "      <td>3.870671</td>\n",
       "      <td>1.899822</td>\n",
       "      <td>0.4999</td>\n",
       "      <td>2.5634</td>\n",
       "      <td>3.5348</td>\n",
       "      <td>4.74325</td>\n",
       "      <td>15.0001</td>\n",
       "    </tr>\n",
       "    <tr>\n",
       "      <th>median_house_value</th>\n",
       "      <td>20640.0</td>\n",
       "      <td>NaN</td>\n",
       "      <td>NaN</td>\n",
       "      <td>NaN</td>\n",
       "      <td>206855.816909</td>\n",
       "      <td>115395.615874</td>\n",
       "      <td>14999.0</td>\n",
       "      <td>119600.0</td>\n",
       "      <td>179700.0</td>\n",
       "      <td>264725.0</td>\n",
       "      <td>500001.0</td>\n",
       "    </tr>\n",
       "    <tr>\n",
       "      <th>ocean_proximity</th>\n",
       "      <td>20640</td>\n",
       "      <td>5</td>\n",
       "      <td>&lt;1H OCEAN</td>\n",
       "      <td>9136</td>\n",
       "      <td>NaN</td>\n",
       "      <td>NaN</td>\n",
       "      <td>NaN</td>\n",
       "      <td>NaN</td>\n",
       "      <td>NaN</td>\n",
       "      <td>NaN</td>\n",
       "      <td>NaN</td>\n",
       "    </tr>\n",
       "  </tbody>\n",
       "</table>\n",
       "</div>"
      ],
      "text/plain": [
       "                      count unique        top  freq           mean  \\\n",
       "longitude           20640.0    NaN        NaN   NaN    -119.569704   \n",
       "latitude            20640.0    NaN        NaN   NaN      35.631861   \n",
       "housing_median_age  20640.0    NaN        NaN   NaN      28.639486   \n",
       "total_rooms         20640.0    NaN        NaN   NaN    2635.763081   \n",
       "total_bedrooms      20433.0    NaN        NaN   NaN     537.870553   \n",
       "population          20640.0    NaN        NaN   NaN    1425.476744   \n",
       "households          20640.0    NaN        NaN   NaN      499.53968   \n",
       "median_income       20640.0    NaN        NaN   NaN       3.870671   \n",
       "median_house_value  20640.0    NaN        NaN   NaN  206855.816909   \n",
       "ocean_proximity       20640      5  <1H OCEAN  9136            NaN   \n",
       "\n",
       "                              std      min       25%       50%       75%  \\\n",
       "longitude                2.003532  -124.35    -121.8   -118.49   -118.01   \n",
       "latitude                 2.135952    32.54     33.93     34.26     37.71   \n",
       "housing_median_age      12.585558      1.0      18.0      29.0      37.0   \n",
       "total_rooms           2181.615252      2.0   1447.75    2127.0    3148.0   \n",
       "total_bedrooms          421.38507      1.0     296.0     435.0     647.0   \n",
       "population            1132.462122      3.0     787.0    1166.0    1725.0   \n",
       "households             382.329753      1.0     280.0     409.0     605.0   \n",
       "median_income            1.899822   0.4999    2.5634    3.5348   4.74325   \n",
       "median_house_value  115395.615874  14999.0  119600.0  179700.0  264725.0   \n",
       "ocean_proximity               NaN      NaN       NaN       NaN       NaN   \n",
       "\n",
       "                         max  \n",
       "longitude            -114.31  \n",
       "latitude               41.95  \n",
       "housing_median_age      52.0  \n",
       "total_rooms          39320.0  \n",
       "total_bedrooms        6445.0  \n",
       "population           35682.0  \n",
       "households            6082.0  \n",
       "median_income        15.0001  \n",
       "median_house_value  500001.0  \n",
       "ocean_proximity          NaN  "
      ]
     },
     "execution_count": 7,
     "metadata": {},
     "output_type": "execute_result"
    }
   ],
   "source": [
    "df.describe(include='all').T"
   ]
  },
  {
   "cell_type": "markdown",
   "id": "1037a095-83ba-47f8-8792-9e1c503d9cdf",
   "metadata": {},
   "source": [
    "### Checking null values and duplicates"
   ]
  },
  {
   "cell_type": "code",
   "execution_count": 8,
   "id": "ca218a51-c95e-4eda-b5d4-22a260005020",
   "metadata": {},
   "outputs": [
    {
     "data": {
      "text/plain": [
       "longitude               0\n",
       "latitude                0\n",
       "housing_median_age      0\n",
       "total_rooms             0\n",
       "total_bedrooms        207\n",
       "population              0\n",
       "households              0\n",
       "median_income           0\n",
       "median_house_value      0\n",
       "ocean_proximity         0\n",
       "dtype: int64"
      ]
     },
     "execution_count": 8,
     "metadata": {},
     "output_type": "execute_result"
    }
   ],
   "source": [
    "df.isnull().sum()"
   ]
  },
  {
   "cell_type": "code",
   "execution_count": 9,
   "id": "02475b74-05d5-4de8-9845-9a8e70ef1d08",
   "metadata": {},
   "outputs": [
    {
     "data": {
      "text/plain": [
       "False    20640\n",
       "Name: count, dtype: int64"
      ]
     },
     "execution_count": 9,
     "metadata": {},
     "output_type": "execute_result"
    }
   ],
   "source": [
    "df.duplicated().value_counts()"
   ]
  },
  {
   "cell_type": "markdown",
   "id": "e8990ca6-8ef5-47ba-b01b-379477287055",
   "metadata": {},
   "source": [
    "### Median house value histogram"
   ]
  },
  {
   "cell_type": "code",
   "execution_count": 10,
   "id": "395d6d0b-04bb-4a29-8759-30e0f9e32a6f",
   "metadata": {},
   "outputs": [
    {
     "data": {
      "image/png": "[encoded data removed]",
      "text/plain": [
       "<Figure size 1000x1000 with 9 Axes>"
      ]
     },
     "metadata": {},
     "output_type": "display_data"
    }
   ],
   "source": [
    "df.hist(figsize=(10,10), bins=100);"
   ]
  },
  {
   "cell_type": "code",
   "execution_count": 11,
   "id": "bba0e248-6b97-49d5-a6da-ac28757b3f5b",
   "metadata": {},
   "outputs": [
    {
     "data": {
      "image/png": "[encoded data removed]",
      "text/plain": [
       "<Figure size 640x480 with 1 Axes>"
      ]
     },
     "metadata": {},
     "output_type": "display_data"
    }
   ],
   "source": [
    "df.median_house_value.hist(bins=100);"
   ]
  },
  {
   "cell_type": "code",
   "execution_count": 12,
   "id": "5ae21a7a-2476-411c-b846-10a89dc63fe2",
   "metadata": {},
   "outputs": [],
   "source": [
    "df_new = df[df.ocean_proximity.isin(['<1H OCEAN','INLAND'])]"
   ]
  },
  {
   "cell_type": "code",
   "execution_count": 13,
   "id": "e1d4f29f-7583-430b-85af-74e8e0885ea5",
   "metadata": {},
   "outputs": [],
   "source": [
    "df_new = df_new.loc[:, ['latitude', 'longitude', 'housing_median_age', 'total_rooms', 'total_bedrooms',\n",
    "              'population', 'households', 'median_income', 'median_house_value']]"
   ]
  },
  {
   "cell_type": "code",
   "execution_count": 14,
   "id": "dd97b045-f9df-4956-9ff9-5876afb6c00b",
   "metadata": {},
   "outputs": [
    {
     "data": {
      "text/html": [
       "<div>\n",
       "<style scoped>\n",
       "    .dataframe tbody tr th:only-of-type {\n",
       "        vertical-align: middle;\n",
       "    }\n",
       "\n",
       "    .dataframe tbody tr th {\n",
       "        vertical-align: top;\n",
       "    }\n",
       "\n",
       "    .dataframe thead th {\n",
       "        text-align: right;\n",
       "    }\n",
       "</style>\n",
       "<table border=\"1\" class=\"dataframe\">\n",
       "  <thead>\n",
       "    <tr style=\"text-align: right;\">\n",
       "      <th></th>\n",
       "      <th>latitude</th>\n",
       "      <th>longitude</th>\n",
       "      <th>housing_median_age</th>\n",
       "      <th>total_rooms</th>\n",
       "      <th>total_bedrooms</th>\n",
       "      <th>population</th>\n",
       "      <th>households</th>\n",
       "      <th>median_income</th>\n",
       "      <th>median_house_value</th>\n",
       "    </tr>\n",
       "  </thead>\n",
       "  <tbody>\n",
       "    <tr>\n",
       "      <th>701</th>\n",
       "      <td>37.64</td>\n",
       "      <td>-121.97</td>\n",
       "      <td>32.0</td>\n",
       "      <td>1283.0</td>\n",
       "      <td>194.0</td>\n",
       "      <td>485.0</td>\n",
       "      <td>171.0</td>\n",
       "      <td>6.0574</td>\n",
       "      <td>431000.0</td>\n",
       "    </tr>\n",
       "    <tr>\n",
       "      <th>830</th>\n",
       "      <td>37.61</td>\n",
       "      <td>-121.99</td>\n",
       "      <td>9.0</td>\n",
       "      <td>3666.0</td>\n",
       "      <td>711.0</td>\n",
       "      <td>2341.0</td>\n",
       "      <td>703.0</td>\n",
       "      <td>4.6458</td>\n",
       "      <td>217000.0</td>\n",
       "    </tr>\n",
       "    <tr>\n",
       "      <th>859</th>\n",
       "      <td>37.57</td>\n",
       "      <td>-121.97</td>\n",
       "      <td>21.0</td>\n",
       "      <td>4342.0</td>\n",
       "      <td>783.0</td>\n",
       "      <td>2172.0</td>\n",
       "      <td>789.0</td>\n",
       "      <td>4.6146</td>\n",
       "      <td>247600.0</td>\n",
       "    </tr>\n",
       "    <tr>\n",
       "      <th>860</th>\n",
       "      <td>37.58</td>\n",
       "      <td>-121.96</td>\n",
       "      <td>15.0</td>\n",
       "      <td>3575.0</td>\n",
       "      <td>597.0</td>\n",
       "      <td>1777.0</td>\n",
       "      <td>559.0</td>\n",
       "      <td>5.7192</td>\n",
       "      <td>283500.0</td>\n",
       "    </tr>\n",
       "    <tr>\n",
       "      <th>861</th>\n",
       "      <td>37.58</td>\n",
       "      <td>-121.98</td>\n",
       "      <td>20.0</td>\n",
       "      <td>4126.0</td>\n",
       "      <td>1031.0</td>\n",
       "      <td>2079.0</td>\n",
       "      <td>975.0</td>\n",
       "      <td>3.6832</td>\n",
       "      <td>216900.0</td>\n",
       "    </tr>\n",
       "  </tbody>\n",
       "</table>\n",
       "</div>"
      ],
      "text/plain": [
       "     latitude  longitude  housing_median_age  total_rooms  total_bedrooms  \\\n",
       "701     37.64    -121.97                32.0       1283.0           194.0   \n",
       "830     37.61    -121.99                 9.0       3666.0           711.0   \n",
       "859     37.57    -121.97                21.0       4342.0           783.0   \n",
       "860     37.58    -121.96                15.0       3575.0           597.0   \n",
       "861     37.58    -121.98                20.0       4126.0          1031.0   \n",
       "\n",
       "     population  households  median_income  median_house_value  \n",
       "701       485.0       171.0         6.0574            431000.0  \n",
       "830      2341.0       703.0         4.6458            217000.0  \n",
       "859      2172.0       789.0         4.6146            247600.0  \n",
       "860      1777.0       559.0         5.7192            283500.0  \n",
       "861      2079.0       975.0         3.6832            216900.0  "
      ]
     },
     "execution_count": 14,
     "metadata": {},
     "output_type": "execute_result"
    }
   ],
   "source": [
    "df_new.head()"
   ]
  },
  {
   "cell_type": "markdown",
   "id": "918187e1-f295-4469-906a-1fb7059efefa",
   "metadata": {},
   "source": [
    "## Question 1"
   ]
  },
  {
   "cell_type": "code",
   "execution_count": 15,
   "id": "fb9d7a94-b6d5-4ce2-8c94-4ecdafd13c10",
   "metadata": {},
   "outputs": [
    {
     "data": {
      "text/plain": [
       "latitude                0\n",
       "longitude               0\n",
       "housing_median_age      0\n",
       "total_rooms             0\n",
       "total_bedrooms        157\n",
       "population              0\n",
       "households              0\n",
       "median_income           0\n",
       "median_house_value      0\n",
       "dtype: int64"
      ]
     },
     "execution_count": 15,
     "metadata": {},
     "output_type": "execute_result"
    }
   ],
   "source": [
    "df_new.isnull().sum()"
   ]
  },
  {
   "cell_type": "code",
   "execution_count": 16,
   "id": "e48ee613-1062-4d74-8296-40a2076120ee",
   "metadata": {},
   "outputs": [],
   "source": [
    "# total_bedrooms"
   ]
  },
  {
   "cell_type": "markdown",
   "id": "d737d516-9b28-4c38-95fc-e5774f12a215",
   "metadata": {},
   "source": [
    "### Question 2"
   ]
  },
  {
   "cell_type": "code",
   "execution_count": 17,
   "id": "ea99d84c-36df-4593-822c-6c3719eb73fe",
   "metadata": {},
   "outputs": [
    {
     "data": {
      "text/plain": [
       "1195.0"
      ]
     },
     "execution_count": 17,
     "metadata": {},
     "output_type": "execute_result"
    }
   ],
   "source": [
    "np.median(df_new.population)"
   ]
  },
  {
   "cell_type": "markdown",
   "id": "dfa79f66-babd-4f49-b930-02ad96c4073b",
   "metadata": {},
   "source": [
    "### Prepare and split the dataset"
   ]
  },
  {
   "cell_type": "code",
   "execution_count": 18,
   "id": "66abf6ea-fe43-495a-84e9-6e3bac819c77",
   "metadata": {},
   "outputs": [
    {
     "name": "stdout",
     "output_type": "stream",
     "text": [
      "Total number of columns: 15687, validation and test (3137, 3137), for the train data 9413\n"
     ]
    }
   ],
   "source": [
    "n = len(df_new)\n",
    "\n",
    "n_val = int(n * 0.2)\n",
    "n_test = int(n * 0.2)\n",
    "n_train = n - (n_val + n_test)\n",
    "\n",
    "print(f'Total number of columns: {n}, validation and test {n_val, n_test}, for the train data {n_train}')"
   ]
  },
  {
   "cell_type": "code",
   "execution_count": 19,
   "id": "960e9cc5-7cc4-4f34-88d3-1a7d205cc1e5",
   "metadata": {},
   "outputs": [],
   "source": [
    "idx = np.arange(n)\n",
    "np.random.seed(42)\n",
    "\n",
    "np.random.shuffle(idx)\n",
    "df_shuffle = df_new.iloc[idx]"
   ]
  },
  {
   "cell_type": "code",
   "execution_count": 20,
   "id": "806ef3ba-7323-4088-898d-6d112564c3ce",
   "metadata": {},
   "outputs": [
    {
     "data": {
      "text/html": [
       "<div>\n",
       "<style scoped>\n",
       "    .dataframe tbody tr th:only-of-type {\n",
       "        vertical-align: middle;\n",
       "    }\n",
       "\n",
       "    .dataframe tbody tr th {\n",
       "        vertical-align: top;\n",
       "    }\n",
       "\n",
       "    .dataframe thead th {\n",
       "        text-align: right;\n",
       "    }\n",
       "</style>\n",
       "<table border=\"1\" class=\"dataframe\">\n",
       "  <thead>\n",
       "    <tr style=\"text-align: right;\">\n",
       "      <th></th>\n",
       "      <th>latitude</th>\n",
       "      <th>longitude</th>\n",
       "      <th>housing_median_age</th>\n",
       "      <th>total_rooms</th>\n",
       "      <th>total_bedrooms</th>\n",
       "      <th>population</th>\n",
       "      <th>households</th>\n",
       "      <th>median_income</th>\n",
       "      <th>median_house_value</th>\n",
       "    </tr>\n",
       "  </thead>\n",
       "  <tbody>\n",
       "    <tr>\n",
       "      <th>19963</th>\n",
       "      <td>36.23</td>\n",
       "      <td>-119.14</td>\n",
       "      <td>22.0</td>\n",
       "      <td>2935.0</td>\n",
       "      <td>523.0</td>\n",
       "      <td>1927.0</td>\n",
       "      <td>530.0</td>\n",
       "      <td>2.5875</td>\n",
       "      <td>70400.0</td>\n",
       "    </tr>\n",
       "    <tr>\n",
       "      <th>5929</th>\n",
       "      <td>34.12</td>\n",
       "      <td>-117.79</td>\n",
       "      <td>16.0</td>\n",
       "      <td>2426.0</td>\n",
       "      <td>426.0</td>\n",
       "      <td>1319.0</td>\n",
       "      <td>446.0</td>\n",
       "      <td>4.8125</td>\n",
       "      <td>224500.0</td>\n",
       "    </tr>\n",
       "    <tr>\n",
       "      <th>11377</th>\n",
       "      <td>33.68</td>\n",
       "      <td>-117.97</td>\n",
       "      <td>26.0</td>\n",
       "      <td>3653.0</td>\n",
       "      <td>568.0</td>\n",
       "      <td>1930.0</td>\n",
       "      <td>585.0</td>\n",
       "      <td>5.7301</td>\n",
       "      <td>260900.0</td>\n",
       "    </tr>\n",
       "    <tr>\n",
       "      <th>6443</th>\n",
       "      <td>34.10</td>\n",
       "      <td>-118.03</td>\n",
       "      <td>32.0</td>\n",
       "      <td>2668.0</td>\n",
       "      <td>609.0</td>\n",
       "      <td>1512.0</td>\n",
       "      <td>541.0</td>\n",
       "      <td>2.9422</td>\n",
       "      <td>233100.0</td>\n",
       "    </tr>\n",
       "    <tr>\n",
       "      <th>17546</th>\n",
       "      <td>37.34</td>\n",
       "      <td>-121.87</td>\n",
       "      <td>39.0</td>\n",
       "      <td>2479.0</td>\n",
       "      <td>541.0</td>\n",
       "      <td>1990.0</td>\n",
       "      <td>506.0</td>\n",
       "      <td>2.4306</td>\n",
       "      <td>289100.0</td>\n",
       "    </tr>\n",
       "  </tbody>\n",
       "</table>\n",
       "</div>"
      ],
      "text/plain": [
       "       latitude  longitude  housing_median_age  total_rooms  total_bedrooms  \\\n",
       "19963     36.23    -119.14                22.0       2935.0           523.0   \n",
       "5929      34.12    -117.79                16.0       2426.0           426.0   \n",
       "11377     33.68    -117.97                26.0       3653.0           568.0   \n",
       "6443      34.10    -118.03                32.0       2668.0           609.0   \n",
       "17546     37.34    -121.87                39.0       2479.0           541.0   \n",
       "\n",
       "       population  households  median_income  median_house_value  \n",
       "19963      1927.0       530.0         2.5875             70400.0  \n",
       "5929       1319.0       446.0         4.8125            224500.0  \n",
       "11377      1930.0       585.0         5.7301            260900.0  \n",
       "6443       1512.0       541.0         2.9422            233100.0  \n",
       "17546      1990.0       506.0         2.4306            289100.0  "
      ]
     },
     "execution_count": 20,
     "metadata": {},
     "output_type": "execute_result"
    }
   ],
   "source": [
    "df_shuffle.head()"
   ]
  },
  {
   "cell_type": "markdown",
   "id": "bdec59f0-b8a3-4b55-b6f4-7f7119e2e978",
   "metadata": {},
   "source": [
    "### Apply log1 to the median_house_value before splitting the dataset"
   ]
  },
  {
   "cell_type": "code",
   "execution_count": 21,
   "id": "9953dd59-8bff-400d-b1a6-378416ec251e",
   "metadata": {},
   "outputs": [],
   "source": [
    "df_shuffle.median_house_value = np.log1p(df_shuffle.median_house_value)"
   ]
  },
  {
   "cell_type": "code",
   "execution_count": 22,
   "id": "29cc5e3c-ac69-40ef-92b0-5119c6041392",
   "metadata": {},
   "outputs": [
    {
     "data": {
      "text/plain": [
       "<Axes: >"
      ]
     },
     "execution_count": 22,
     "metadata": {},
     "output_type": "execute_result"
    },
    {
     "data": {
      "image/png": "[encoded data removed]",
      "text/plain": [
       "<Figure size 640x480 with 1 Axes>"
      ]
     },
     "metadata": {},
     "output_type": "display_data"
    }
   ],
   "source": [
    "df_shuffle.median_house_value.hist(bins=100)"
   ]
  },
  {
   "cell_type": "markdown",
   "id": "d99f450c-70ff-4f13-9b6f-660eb59c7972",
   "metadata": {},
   "source": [
    "### Split dataset in train, val and test"
   ]
  },
  {
   "cell_type": "code",
   "execution_count": 23,
   "id": "1978f01f-8521-4cdc-84c8-d255cc951c88",
   "metadata": {},
   "outputs": [],
   "source": [
    "df_train = df_shuffle.iloc[: n_train]\n",
    "df_val = df_shuffle.iloc[n_train: n_train + n_val]\n",
    "df_test = df_shuffle.iloc[n_train + n_val: ]"
   ]
  },
  {
   "cell_type": "code",
   "execution_count": 24,
   "id": "c3b19b85-c1d5-4d27-a2c5-9c9778297246",
   "metadata": {},
   "outputs": [
    {
     "data": {
      "text/plain": [
       "((9413, 9), (3137, 9), (3137, 9))"
      ]
     },
     "execution_count": 24,
     "metadata": {},
     "output_type": "execute_result"
    }
   ],
   "source": [
    "df_train.shape, df_val.shape, df_val.shape"
   ]
  },
  {
   "cell_type": "markdown",
   "id": "6da1b0d3-5891-4905-b02b-fbf06715159b",
   "metadata": {},
   "source": [
    "#### Reset index"
   ]
  },
  {
   "cell_type": "code",
   "execution_count": 25,
   "id": "48696ee6-833c-4d68-839b-d279d449e7a1",
   "metadata": {
    "scrolled": true
   },
   "outputs": [
    {
     "data": {
      "text/html": [
       "<div>\n",
       "<style scoped>\n",
       "    .dataframe tbody tr th:only-of-type {\n",
       "        vertical-align: middle;\n",
       "    }\n",
       "\n",
       "    .dataframe tbody tr th {\n",
       "        vertical-align: top;\n",
       "    }\n",
       "\n",
       "    .dataframe thead th {\n",
       "        text-align: right;\n",
       "    }\n",
       "</style>\n",
       "<table border=\"1\" class=\"dataframe\">\n",
       "  <thead>\n",
       "    <tr style=\"text-align: right;\">\n",
       "      <th></th>\n",
       "      <th>latitude</th>\n",
       "      <th>longitude</th>\n",
       "      <th>housing_median_age</th>\n",
       "      <th>total_rooms</th>\n",
       "      <th>total_bedrooms</th>\n",
       "      <th>population</th>\n",
       "      <th>households</th>\n",
       "      <th>median_income</th>\n",
       "      <th>median_house_value</th>\n",
       "    </tr>\n",
       "  </thead>\n",
       "  <tbody>\n",
       "    <tr>\n",
       "      <th>0</th>\n",
       "      <td>33.90</td>\n",
       "      <td>-117.44</td>\n",
       "      <td>23.0</td>\n",
       "      <td>4487.0</td>\n",
       "      <td>754.0</td>\n",
       "      <td>2609.0</td>\n",
       "      <td>778.0</td>\n",
       "      <td>4.2788</td>\n",
       "      <td>11.909693</td>\n",
       "    </tr>\n",
       "    <tr>\n",
       "      <th>1</th>\n",
       "      <td>38.03</td>\n",
       "      <td>-121.65</td>\n",
       "      <td>28.0</td>\n",
       "      <td>3144.0</td>\n",
       "      <td>694.0</td>\n",
       "      <td>1095.0</td>\n",
       "      <td>482.0</td>\n",
       "      <td>3.4402</td>\n",
       "      <td>12.167337</td>\n",
       "    </tr>\n",
       "    <tr>\n",
       "      <th>2</th>\n",
       "      <td>37.25</td>\n",
       "      <td>-121.85</td>\n",
       "      <td>20.0</td>\n",
       "      <td>3773.0</td>\n",
       "      <td>624.0</td>\n",
       "      <td>1965.0</td>\n",
       "      <td>607.0</td>\n",
       "      <td>5.4939</td>\n",
       "      <td>12.393386</td>\n",
       "    </tr>\n",
       "    <tr>\n",
       "      <th>3</th>\n",
       "      <td>32.78</td>\n",
       "      <td>-116.97</td>\n",
       "      <td>35.0</td>\n",
       "      <td>1113.0</td>\n",
       "      <td>236.0</td>\n",
       "      <td>681.0</td>\n",
       "      <td>246.0</td>\n",
       "      <td>2.9784</td>\n",
       "      <td>11.823354</td>\n",
       "    </tr>\n",
       "    <tr>\n",
       "      <th>4</th>\n",
       "      <td>37.97</td>\n",
       "      <td>-121.32</td>\n",
       "      <td>43.0</td>\n",
       "      <td>2453.0</td>\n",
       "      <td>490.0</td>\n",
       "      <td>1093.0</td>\n",
       "      <td>438.0</td>\n",
       "      <td>2.9107</td>\n",
       "      <td>11.394153</td>\n",
       "    </tr>\n",
       "    <tr>\n",
       "      <th>...</th>\n",
       "      <td>...</td>\n",
       "      <td>...</td>\n",
       "      <td>...</td>\n",
       "      <td>...</td>\n",
       "      <td>...</td>\n",
       "      <td>...</td>\n",
       "      <td>...</td>\n",
       "      <td>...</td>\n",
       "      <td>...</td>\n",
       "    </tr>\n",
       "    <tr>\n",
       "      <th>3132</th>\n",
       "      <td>34.15</td>\n",
       "      <td>-118.14</td>\n",
       "      <td>41.0</td>\n",
       "      <td>1256.0</td>\n",
       "      <td>407.0</td>\n",
       "      <td>855.0</td>\n",
       "      <td>383.0</td>\n",
       "      <td>1.9923</td>\n",
       "      <td>13.122367</td>\n",
       "    </tr>\n",
       "    <tr>\n",
       "      <th>3133</th>\n",
       "      <td>37.40</td>\n",
       "      <td>-121.86</td>\n",
       "      <td>19.0</td>\n",
       "      <td>4043.0</td>\n",
       "      <td>764.0</td>\n",
       "      <td>2196.0</td>\n",
       "      <td>708.0</td>\n",
       "      <td>6.1504</td>\n",
       "      <td>12.500237</td>\n",
       "    </tr>\n",
       "    <tr>\n",
       "      <th>3134</th>\n",
       "      <td>34.07</td>\n",
       "      <td>-118.15</td>\n",
       "      <td>52.0</td>\n",
       "      <td>1983.0</td>\n",
       "      <td>344.0</td>\n",
       "      <td>887.0</td>\n",
       "      <td>331.0</td>\n",
       "      <td>3.2875</td>\n",
       "      <td>12.364789</td>\n",
       "    </tr>\n",
       "    <tr>\n",
       "      <th>3135</th>\n",
       "      <td>36.78</td>\n",
       "      <td>-119.81</td>\n",
       "      <td>37.0</td>\n",
       "      <td>1965.0</td>\n",
       "      <td>364.0</td>\n",
       "      <td>796.0</td>\n",
       "      <td>335.0</td>\n",
       "      <td>3.6250</td>\n",
       "      <td>11.331416</td>\n",
       "    </tr>\n",
       "    <tr>\n",
       "      <th>3136</th>\n",
       "      <td>34.00</td>\n",
       "      <td>-118.35</td>\n",
       "      <td>46.0</td>\n",
       "      <td>3402.0</td>\n",
       "      <td>503.0</td>\n",
       "      <td>1389.0</td>\n",
       "      <td>504.0</td>\n",
       "      <td>5.3462</td>\n",
       "      <td>12.507661</td>\n",
       "    </tr>\n",
       "  </tbody>\n",
       "</table>\n",
       "<p>3137 rows × 9 columns</p>\n",
       "</div>"
      ],
      "text/plain": [
       "      latitude  longitude  housing_median_age  total_rooms  total_bedrooms  \\\n",
       "0        33.90    -117.44                23.0       4487.0           754.0   \n",
       "1        38.03    -121.65                28.0       3144.0           694.0   \n",
       "2        37.25    -121.85                20.0       3773.0           624.0   \n",
       "3        32.78    -116.97                35.0       1113.0           236.0   \n",
       "4        37.97    -121.32                43.0       2453.0           490.0   \n",
       "...        ...        ...                 ...          ...             ...   \n",
       "3132     34.15    -118.14                41.0       1256.0           407.0   \n",
       "3133     37.40    -121.86                19.0       4043.0           764.0   \n",
       "3134     34.07    -118.15                52.0       1983.0           344.0   \n",
       "3135     36.78    -119.81                37.0       1965.0           364.0   \n",
       "3136     34.00    -118.35                46.0       3402.0           503.0   \n",
       "\n",
       "      population  households  median_income  median_house_value  \n",
       "0         2609.0       778.0         4.2788           11.909693  \n",
       "1         1095.0       482.0         3.4402           12.167337  \n",
       "2         1965.0       607.0         5.4939           12.393386  \n",
       "3          681.0       246.0         2.9784           11.823354  \n",
       "4         1093.0       438.0         2.9107           11.394153  \n",
       "...          ...         ...            ...                 ...  \n",
       "3132       855.0       383.0         1.9923           13.122367  \n",
       "3133      2196.0       708.0         6.1504           12.500237  \n",
       "3134       887.0       331.0         3.2875           12.364789  \n",
       "3135       796.0       335.0         3.6250           11.331416  \n",
       "3136      1389.0       504.0         5.3462           12.507661  \n",
       "\n",
       "[3137 rows x 9 columns]"
      ]
     },
     "execution_count": 25,
     "metadata": {},
     "output_type": "execute_result"
    }
   ],
   "source": [
    "df_train.reset_index(drop=True)\n",
    "df_val.reset_index(drop=True)\n",
    "df_test.reset_index(drop=True)"
   ]
  },
  {
   "cell_type": "markdown",
   "id": "bf8b60ce-3127-4220-a329-20d05e5ed5df",
   "metadata": {},
   "source": [
    "### Dividing data in train, test and validation"
   ]
  },
  {
   "cell_type": "code",
   "execution_count": 26,
   "id": "a7abdad5-88db-4e76-a51f-8f3118924bf4",
   "metadata": {},
   "outputs": [],
   "source": [
    "X_train = df_train.iloc[: , :-1]\n",
    "y_train = df_train.iloc[:, -1]\n",
    "\n",
    "X_test = df_test.iloc[: , :-1]\n",
    "y_test = df_test.iloc[:, -1]\n",
    "\n",
    "X_val = df_val.iloc[: , :-1]\n",
    "y_val = df_val.iloc[:, -1]"
   ]
  },
  {
   "cell_type": "code",
   "execution_count": 27,
   "id": "09a9f9ed-b6a7-42ce-a1c9-5cd8e92f15b9",
   "metadata": {},
   "outputs": [
    {
     "name": "stdout",
     "output_type": "stream",
     "text": [
      "The shape of the X_training dataset is: (9413, 8)\n",
      "The shape of the X_test dataset is: (3137, 8)\n",
      "The shape of the X_val dataset is: (3137, 8)\n"
     ]
    }
   ],
   "source": [
    "print(f'The shape of the X_training dataset is: {X_train.shape}')\n",
    "print(f'The shape of the X_test dataset is: {X_test.shape}')\n",
    "print(f'The shape of the X_val dataset is: {X_val.shape}')"
   ]
  },
  {
   "cell_type": "code",
   "execution_count": 28,
   "id": "b105ffde-609f-4013-98cd-d9eb6e2494b8",
   "metadata": {},
   "outputs": [
    {
     "name": "stdout",
     "output_type": "stream",
     "text": [
      "The shape of the y_training dataset is: (9413,)\n",
      "The shape of the y_test dataset is: (3137,)\n",
      "The shape of the y_val dataset is: (3137,)\n"
     ]
    }
   ],
   "source": [
    "print(f'The shape of the y_training dataset is: {y_train.shape}')\n",
    "print(f'The shape of the y_test dataset is: {y_test.shape}')\n",
    "print(f'The shape of the y_val dataset is: {y_val.shape}')"
   ]
  },
  {
   "cell_type": "markdown",
   "id": "fdc71db1-b323-419c-b965-3e8c7cf9347f",
   "metadata": {},
   "source": [
    "### Question 3"
   ]
  },
  {
   "cell_type": "markdown",
   "id": "f2dac1e2-20b7-4b76-83db-cb3f1bcbda56",
   "metadata": {},
   "source": [
    "#### Linear Regresion function"
   ]
  },
  {
   "cell_type": "code",
   "execution_count": 29,
   "id": "5aee3b00-98a2-4157-ad11-600d15326772",
   "metadata": {},
   "outputs": [],
   "source": [
    "def linear_regression(X, y):\n",
    "    ones = np.ones(X.shape[0])\n",
    "    X = np.column_stack([ones, X])\n",
    "\n",
    "    XTX = X.T.dot(X)\n",
    "    XTX_inv = np.linalg.inv(XTX)\n",
    "\n",
    "    w = XTX_inv.dot(X.T).dot(y)\n",
    "\n",
    "    return w[0], w[1:]"
   ]
  },
  {
   "cell_type": "markdown",
   "id": "dd62981a-604a-43cf-a230-b6f68121dd09",
   "metadata": {},
   "source": [
    "#### Function to fill NaN values with 0 or any othe value if provided "
   ]
  },
  {
   "cell_type": "code",
   "execution_count": 30,
   "id": "36e45a49-598d-4f3f-83dd-e45890b0c897",
   "metadata": {},
   "outputs": [],
   "source": [
    "def fill_null(df, fillna_value=0):\n",
    "    return df.fillna(fillna_value)"
   ]
  },
  {
   "cell_type": "markdown",
   "id": "7f693284-fb68-4b9c-ba15-5f1810358c70",
   "metadata": {},
   "source": [
    "#### Function for RMSE values:"
   ]
  },
  {
   "cell_type": "code",
   "execution_count": 31,
   "id": "32dcefd7-f010-4153-a4d4-582771953fa0",
   "metadata": {},
   "outputs": [],
   "source": [
    "def rmse(y, y_pred):\n",
    "    error = y_pred - y\n",
    "    mse = (error ** 2).mean()\n",
    "    return np.sqrt(mse)"
   ]
  },
  {
   "cell_type": "markdown",
   "id": "88b927e4-5ca4-495c-bb2f-235653da9672",
   "metadata": {},
   "source": [
    "#### Preparing Train data and running Linear Regression with the mean of total bedrooms column"
   ]
  },
  {
   "cell_type": "code",
   "execution_count": 38,
   "id": "00b027c4-8c35-4254-a208-477e9566aee5",
   "metadata": {},
   "outputs": [],
   "source": [
    "# Trainin Linear Regression with the mean Train data in total bedrooms column\n",
    "X_mean_train = fill_null(X_train, X_train.total_bedrooms.mean())\n",
    "\n",
    "w_0_mean_train, w_1_mean_train = linear_regression(X_mean_train, y_train)"
   ]
  },
  {
   "cell_type": "code",
   "execution_count": 40,
   "id": "a2e838f8-b239-4a2a-b7a2-979462cb8e16",
   "metadata": {},
   "outputs": [],
   "source": [
    "# Filling null values on the validation dataset\n",
    "X_mean_val = fill_null(X_val, X_val.total_bedrooms.mean())\n",
    "\n",
    "y_mean_pred_val = w_0_mean_train + X_mean_val.dot(w_1_mean_train)"
   ]
  },
  {
   "cell_type": "code",
   "execution_count": 81,
   "id": "99a2f9c1-14db-40cb-b6de-fbb0b14b2c76",
   "metadata": {},
   "outputs": [
    {
     "data": {
      "text/plain": [
       "9235     11.714623\n",
       "11104    12.474280\n",
       "7428     11.841273\n",
       "19928    11.792294\n",
       "15534    12.053137\n",
       "           ...    \n",
       "20033    11.418994\n",
       "19766    11.183598\n",
       "6970     12.392941\n",
       "6790     12.055414\n",
       "5991     12.062247\n",
       "Length: 3137, dtype: float64"
      ]
     },
     "execution_count": 81,
     "metadata": {},
     "output_type": "execute_result"
    }
   ],
   "source": [
    "y_mean_pred_val"
   ]
  },
  {
   "cell_type": "markdown",
   "id": "ac111458-0160-4fe7-ae16-b57cf7f24a20",
   "metadata": {},
   "source": [
    "#### Evaluation with mean value"
   ]
  },
  {
   "cell_type": "code",
   "execution_count": 45,
   "id": "f6a57fd4-e8f8-48cd-9f5c-4ed72013c0e0",
   "metadata": {},
   "outputs": [
    {
     "data": {
      "text/plain": [
       "0.34"
      ]
     },
     "execution_count": 45,
     "metadata": {},
     "output_type": "execute_result"
    }
   ],
   "source": [
    "round(rmse(y_val, y_mean_pred_val), 2)"
   ]
  },
  {
   "cell_type": "markdown",
   "id": "449d5434-fa4a-4c24-baaf-ea9b1fddfc6b",
   "metadata": {},
   "source": [
    "#### Preparing Train data and running Linear Regression with the zero of total bedrooms column"
   ]
  },
  {
   "cell_type": "code",
   "execution_count": 42,
   "id": "2ff1e272-0db7-44d9-879a-7394a0359f8d",
   "metadata": {},
   "outputs": [],
   "source": [
    "# Trainin Linear Regression with the mean Train data in total bedrooms column\n",
    "X_zero_train = fill_null(X_train)\n",
    "\n",
    "w_0_zero_train, w_1_zero_train = linear_regression(X_zero_train, y_train)"
   ]
  },
  {
   "cell_type": "code",
   "execution_count": 43,
   "id": "da88ab8e-5326-47d2-b0d2-631667e859c4",
   "metadata": {},
   "outputs": [],
   "source": [
    "# Filling null values on the validation dataset\n",
    "X_zero_val = fill_null(X_val)\n",
    "\n",
    "y_zero_pred_val = w_0_zero_train + X_zero_val.dot(w_1_zero_train)"
   ]
  },
  {
   "cell_type": "markdown",
   "id": "9f9019fe-5605-4343-b014-95b95b5d3b73",
   "metadata": {},
   "source": [
    "#### Evaluate with zero value"
   ]
  },
  {
   "cell_type": "code",
   "execution_count": 44,
   "id": "33093cbc-f6ce-485b-a8d0-2c0183130b30",
   "metadata": {},
   "outputs": [
    {
     "data": {
      "text/plain": [
       "0.34"
      ]
     },
     "execution_count": 44,
     "metadata": {},
     "output_type": "execute_result"
    }
   ],
   "source": [
    "round(rmse(y_val, y_zero_pred_val), 2)"
   ]
  },
  {
   "cell_type": "markdown",
   "id": "05596517-f2cb-4831-9761-24ed6af71ba0",
   "metadata": {},
   "source": [
    "- **Both are equal**"
   ]
  },
  {
   "cell_type": "markdown",
   "id": "1cb37245-5d98-4d8a-a5de-6f68c1b09584",
   "metadata": {},
   "source": [
    "### Question 4"
   ]
  },
  {
   "cell_type": "markdown",
   "id": "a80d79af-47f4-4ae4-ac6d-b92e0f625d24",
   "metadata": {},
   "source": [
    "### Linear Regression with Regularization"
   ]
  },
  {
   "cell_type": "code",
   "execution_count": 47,
   "id": "4f0381ec-ef42-4c3f-8f4a-a0a05e89bdfe",
   "metadata": {},
   "outputs": [],
   "source": [
    "def linear_regression_reg(X, y, r=0.0):\n",
    "    ones = np.ones(X.shape[0])\n",
    "    X = np.column_stack([ones, X])\n",
    "\n",
    "    XTX = X.T.dot(X)\n",
    "    reg = r * np.eye(XTX.shape[0])\n",
    "    XTX = XTX + reg\n",
    "\n",
    "    XTX_inv = np.linalg.inv(XTX)\n",
    "    w = XTX_inv.dot(X.T).dot(y)\n",
    "    \n",
    "    return w[0], w[1:]"
   ]
  },
  {
   "cell_type": "code",
   "execution_count": 48,
   "id": "62455d04-94d1-4fef-91a1-e9a15b344f51",
   "metadata": {},
   "outputs": [],
   "source": [
    "# Regularization list\n",
    "reg_list = [0, 0.000001, 0.0001, 0.001, 0.01, 0.1, 1, 5, 10]"
   ]
  },
  {
   "cell_type": "code",
   "execution_count": 50,
   "id": "aa37714e-e0ff-4327-87f8-b63db409ab4d",
   "metadata": {},
   "outputs": [
    {
     "name": "stdout",
     "output_type": "stream",
     "text": [
      "The result for reg value 0 is -> 0.34\n",
      "The result for reg value 1e-06 is -> 0.34\n",
      "The result for reg value 0.0001 is -> 0.34\n",
      "The result for reg value 0.001 is -> 0.34\n",
      "The result for reg value 0.01 is -> 0.34\n",
      "The result for reg value 0.1 is -> 0.34\n",
      "The result for reg value 1 is -> 0.34\n",
      "The result for reg value 5 is -> 0.35\n",
      "The result for reg value 10 is -> 0.35\n"
     ]
    }
   ],
   "source": [
    "for r in reg_list:\n",
    "    w_0, w_1 = linear_regression_reg(X_zero_train, y_train, r)\n",
    "\n",
    "    y_pred = w_0 + X_zero_val.dot(w_1)\n",
    "\n",
    "    print(f'The result for reg value {r} is -> {round(rmse(y_val, y_pred), 2)}')"
   ]
  },
  {
   "cell_type": "code",
   "execution_count": 51,
   "id": "6126d5bb-f4b3-4930-81b6-492d3ad69c5f",
   "metadata": {},
   "outputs": [],
   "source": [
    "# Answer - Could be from 0 to 1 with this code"
   ]
  },
  {
   "cell_type": "markdown",
   "id": "a1d93a61-3f2b-45fe-8a9c-d2bd10f86ab6",
   "metadata": {},
   "source": [
    "### Question 5"
   ]
  },
  {
   "cell_type": "code",
   "execution_count": 52,
   "id": "a6091ad4-089e-457c-b242-00b32fc2be06",
   "metadata": {},
   "outputs": [],
   "source": [
    "seed_values = [0, 1, 2, 3, 4, 5, 6, 7, 8, 9]"
   ]
  },
  {
   "cell_type": "code",
   "execution_count": 54,
   "id": "a9c0a1ae-47eb-451b-95be-c49921fc22b4",
   "metadata": {},
   "outputs": [],
   "source": [
    "df_std = df_new.copy()"
   ]
  },
  {
   "cell_type": "code",
   "execution_count": 57,
   "id": "a74757e0-9d69-4aeb-bec6-61debbdad10c",
   "metadata": {},
   "outputs": [],
   "source": [
    "df_std.median_house_value = np.log1p(df_new.median_house_value)"
   ]
  },
  {
   "cell_type": "code",
   "execution_count": 59,
   "id": "6594a991-faeb-42ba-bcc4-8f3f72b21144",
   "metadata": {},
   "outputs": [],
   "source": [
    "rmse_result_list = []"
   ]
  },
  {
   "cell_type": "code",
   "execution_count": 60,
   "id": "d8577093-0373-472e-9b27-622763bfb32c",
   "metadata": {},
   "outputs": [
    {
     "name": "stdout",
     "output_type": "stream",
     "text": [
      "The result for seed value 0 is -> 0.34\n",
      "The result for seed value 1 is -> 0.34\n",
      "The result for seed value 2 is -> 0.34\n",
      "The result for seed value 3 is -> 0.33\n",
      "The result for seed value 4 is -> 0.34\n",
      "The result for seed value 5 is -> 0.34\n",
      "The result for seed value 6 is -> 0.34\n",
      "The result for seed value 7 is -> 0.35\n",
      "The result for seed value 8 is -> 0.35\n",
      "The result for seed value 9 is -> 0.33\n"
     ]
    }
   ],
   "source": [
    "for s in seed_values:\n",
    "    # Adding the seed\n",
    "    temp_id = np.arange(n)\n",
    "    np.random.seed(s)\n",
    "\n",
    "    # Shuffle the dataset\n",
    "    np.random.shuffle(temp_id)\n",
    "    df_shuffle = df_std.iloc[temp_id]\n",
    "\n",
    "    # Making the train, test, and val dataset\n",
    "    df_train = df_shuffle.iloc[: n_train]\n",
    "    df_val = df_shuffle.iloc[n_train: n_train + n_val]\n",
    "    df_test = df_shuffle.iloc[n_train + n_val: ]\n",
    "\n",
    "    X_train = df_train.iloc[: , :-1]\n",
    "    y_train = df_train.iloc[:, -1]  \n",
    "    X_test = df_test.iloc[: , :-1]\n",
    "    y_test = df_test.iloc[:, -1] \n",
    "    X_val = df_val.iloc[: , :-1]\n",
    "    y_val = df_val.iloc[:, -1]\n",
    "\n",
    "    # Filling null values\n",
    "    X_train_prep = fill_null(X_train)\n",
    "    X_val_prep = fill_null(X_val)\n",
    "\n",
    "    w_0, w = linear_regression(X_train_prep, y_train)\n",
    "    y_pred_val = w_0 + X_val_prep.dot(w)\n",
    "\n",
    "    rmse_result = round(rmse(y_val, y_pred_val), 2)\n",
    "\n",
    "    print(f'The result for seed value {s} is -> {rmse_result}')\n",
    "\n",
    "    rmse_result_list.append(rmse_result)"
   ]
  },
  {
   "cell_type": "code",
   "execution_count": 63,
   "id": "77801b3f-2371-4a2e-8d5a-0c214339c4e2",
   "metadata": {},
   "outputs": [
    {
     "data": {
      "text/plain": [
       "0.006"
      ]
     },
     "execution_count": 63,
     "metadata": {},
     "output_type": "execute_result"
    }
   ],
   "source": [
    "round(np.std(rmse_result_list), 3)"
   ]
  },
  {
   "cell_type": "markdown",
   "id": "f26ddcd2-9b2b-432f-86f4-c9acafda3106",
   "metadata": {},
   "source": [
    "### Question 6"
   ]
  },
  {
   "cell_type": "code",
   "execution_count": 66,
   "id": "5a18ab14-28c7-47ae-8350-9be5d5e6be35",
   "metadata": {},
   "outputs": [],
   "source": [
    "# Adding new seed\n",
    "id_final = np.arange(n)\n",
    "np.random.seed(9)\n",
    "\n",
    "# Shuffle the dataset\n",
    "np.random.shuffle(id_final)\n",
    "df_shuffle = df_std.iloc[id_final]"
   ]
  },
  {
   "cell_type": "code",
   "execution_count": 67,
   "id": "3065300e-d4d5-4dc4-9ed7-e7493dc2cb63",
   "metadata": {},
   "outputs": [],
   "source": [
    "# Making the train, test, and val dataset\n",
    "df_train = df_shuffle.iloc[: n_train]\n",
    "df_val = df_shuffle.iloc[n_train: n_train + n_val]\n",
    "df_test = df_shuffle.iloc[n_train + n_val: ]"
   ]
  },
  {
   "cell_type": "code",
   "execution_count": 69,
   "id": "82bfb046-ec49-4b14-bf46-f919a1be5b34",
   "metadata": {},
   "outputs": [],
   "source": [
    "df_train_val = pd.concat([df_train, df_val])"
   ]
  },
  {
   "cell_type": "code",
   "execution_count": 70,
   "id": "c3ddac59-a47b-4f48-8fd6-5433ebf4130b",
   "metadata": {},
   "outputs": [
    {
     "data": {
      "text/plain": [
       "(12550, 9)"
      ]
     },
     "execution_count": 70,
     "metadata": {},
     "output_type": "execute_result"
    }
   ],
   "source": [
    "df_train_val.shape"
   ]
  },
  {
   "cell_type": "code",
   "execution_count": 71,
   "id": "514b4e4d-644e-42c2-bee2-6e1dee14bc85",
   "metadata": {},
   "outputs": [],
   "source": [
    "X_train = df_train_val.iloc[: , :-1]\n",
    "y_train = df_train_val.iloc[:, -1]  \n",
    "X_test = df_test.iloc[: , :-1]\n",
    "y_test = df_test.iloc[:, -1] "
   ]
  },
  {
   "cell_type": "code",
   "execution_count": 74,
   "id": "26583d19-fe04-4f2c-b75d-6cfcb3759829",
   "metadata": {},
   "outputs": [],
   "source": [
    "X_train_prep = fill_null(X_train)\n",
    "X_test_prep = fill_null(X_test)"
   ]
  },
  {
   "cell_type": "code",
   "execution_count": 75,
   "id": "29f525c4-d85a-4cde-bdf3-37cae708ba89",
   "metadata": {},
   "outputs": [],
   "source": [
    "w_0, w = linear_regression_reg(X_train_prep, y_train, 0.001)"
   ]
  },
  {
   "cell_type": "code",
   "execution_count": 76,
   "id": "3f2c8b1d-6957-48b9-8cc8-b49610a9e608",
   "metadata": {},
   "outputs": [],
   "source": [
    "y_pred = w_0 + X_test_prep.dot(w)"
   ]
  },
  {
   "cell_type": "code",
   "execution_count": 79,
   "id": "973a1d2b-434a-429a-8c16-ff9ad3f87c64",
   "metadata": {},
   "outputs": [
    {
     "data": {
      "text/plain": [
       "0.33"
      ]
     },
     "execution_count": 79,
     "metadata": {},
     "output_type": "execute_result"
    }
   ],
   "source": [
    "round(rmse(y_test, y_pred), 2)"
   ]
  },
  {
   "cell_type": "code",
   "execution_count": null,
   "id": "8c32df19-c58b-4e16-9ac0-701f24cf6767",
   "metadata": {},
   "outputs": [],
   "source": []
  }
 ],
 "metadata": {
  "kernelspec": {
   "display_name": "Python 3 (ipykernel)",
   "language": "python",
   "name": "python3"
  },
  "language_info": {
   "codemirror_mode": {
    "name": "ipython",
    "version": 3
   },
   "file_extension": ".py",
   "mimetype": "text/x-python",
   "name": "python",
   "nbconvert_exporter": "python",
   "pygments_lexer": "ipython3",
   "version": "3.9.6"
  }
 },
 "nbformat": 4,
 "nbformat_minor": 5
}
